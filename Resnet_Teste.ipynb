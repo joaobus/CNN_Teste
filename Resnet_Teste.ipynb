{
  "nbformat": 4,
  "nbformat_minor": 0,
  "metadata": {
    "colab": {
      "name": "Resnet_Teste",
      "provenance": [],
      "collapsed_sections": []
    },
    "kernelspec": {
      "name": "python3",
      "display_name": "Python 3"
    },
    "language_info": {
      "name": "python"
    },
    "accelerator": "GPU"
  },
  "cells": [
    {
      "cell_type": "code",
      "source": [
        "# Montando o Google Drive\n",
        "\n",
        "from google.colab import drive \n",
        "drive.mount('/content/gdrive')"
      ],
      "metadata": {
        "id": "1nweA6T5m7uW",
        "colab": {
          "base_uri": "https://localhost:8080/"
        },
        "outputId": "ec437296-2153-4dfc-ed83-d3a4733c8d8b"
      },
      "execution_count": null,
      "outputs": [
        {
          "output_type": "stream",
          "name": "stdout",
          "text": [
            "Mounted at /content/gdrive\n"
          ]
        }
      ]
    },
    {
      "cell_type": "code",
      "execution_count": null,
      "metadata": {
        "id": "HDlm3IKwmPwT"
      },
      "outputs": [],
      "source": [
        "# Bibliotecas gerais\n",
        "import seaborn as sns\n",
        "import matplotlib.pyplot as plt\n",
        "import numpy as np"
      ]
    },
    {
      "cell_type": "code",
      "source": [
        "# Bibliotecas CNN\n",
        "import keras\n",
        "import tensorflow as tf\n",
        "import cv2\n",
        "\n",
        "from tensorflow.keras.applications import ResNet50\n",
        "from tensorflow.keras.applications.resnet50 import preprocess_input\n",
        "from tensorflow.keras.optimizers import Adam\n",
        "from tensorflow.keras.models import Model\n",
        "from tensorflow.image import resize"
      ],
      "metadata": {
        "id": "FhfSzsdVXxdG"
      },
      "execution_count": null,
      "outputs": []
    },
    {
      "cell_type": "code",
      "source": [
        "# Lendo as imagens\n",
        "import glob\n",
        "\n",
        "def ler(file_list, imagens):\n",
        "  for file in file_list:\n",
        "      img = cv2.imread(file)  \n",
        "      #img = tf.image.rgb_to_grayscale(img)  # Conversão para escala de cinza\n",
        "      img = tf.image.resize(img,[64,64])    # Mudando as dimensões da imagem\n",
        "      imagens.append(img)\n",
        "  return imagens  "
      ],
      "metadata": {
        "id": "RHAUZu9J62g2"
      },
      "execution_count": null,
      "outputs": []
    },
    {
      "cell_type": "code",
      "source": [
        "img_saudavel = []  \n",
        "img_doente = []\n",
        "\n",
        "file_list = glob.glob(r'gdrive/My Drive/Dataset/Batata/color/saudavel/*.*')\n",
        "img_saudavel = np.array(ler(file_list, img_saudavel))\n",
        "\n",
        "file_list = glob.glob(r'gdrive/My Drive/Dataset/Batata/color/doente/*.*')\n",
        "img_doente = ler(file_list, img_doente)\n",
        "\n",
        "file_list = glob.glob(r'gdrive/My Drive/Dataset/Batata/color/Early_Blight/*.*')\n",
        "img_doente = np.array(ler(file_list, img_doente))"
      ],
      "metadata": {
        "id": "SE-WyxvyF9Nz"
      },
      "execution_count": null,
      "outputs": []
    },
    {
      "cell_type": "code",
      "source": [
        "print(img_saudavel.shape)\n",
        "print(img_doente.shape)"
      ],
      "metadata": {
        "id": "pYdi334QJhDC",
        "colab": {
          "base_uri": "https://localhost:8080/"
        },
        "outputId": "6ff53456-2425-4691-d335-5a63b3909f0f"
      },
      "execution_count": null,
      "outputs": [
        {
          "output_type": "stream",
          "name": "stdout",
          "text": [
            "(152, 64, 64, 3)\n",
            "(2000, 64, 64, 3)\n"
          ]
        }
      ]
    },
    {
      "cell_type": "markdown",
      "source": [
        "#### Pré-processamento"
      ],
      "metadata": {
        "id": "SCsvZwUmeN8E"
      }
    },
    {
      "cell_type": "code",
      "source": [
        "# Data augmentation nas imagens de folhas saudáveis\n",
        "def augmentation(imagens):\n",
        "  aug = tf.image.flip_left_right(imagens)\n",
        "  imagens = np.concatenate((imagens,aug))\n",
        "  aug = tf.image.random_brightness(aug,max_delta = 0.35)\n",
        "  imagens = np.concatenate((imagens,aug))\n",
        "  aug = tf.image.random_contrast(aug, 0.3, 2.5)\n",
        "  imagens = np.concatenate((imagens,aug))\n",
        "  return(np.array(imagens))"
      ],
      "metadata": {
        "id": "isRGcDa4BiJA"
      },
      "execution_count": null,
      "outputs": []
    },
    {
      "cell_type": "code",
      "source": [
        "from sklearn.model_selection import train_test_split\n",
        "\n",
        "img_saudavel_aug = augmentation(img_saudavel)\n",
        "img_saudavel_aug = augmentation(img_saudavel_aug)\n",
        "\n",
        "img_doente_aug = augmentation(img_doente)\n",
        "\n",
        "x = np.array([*img_saudavel_aug,*img_doente_aug])\n",
        "y = np.array([*np.zeros(len(img_saudavel_aug)),*np.ones(len(img_doente_aug))])     # 0 = saudável, 1 = doente\n",
        "\n",
        "#x = np.array([*img_saudavel,*img_doente])\n",
        "#y = np.array([*np.zeros(len(img_saudavel)),*np.ones(len(img_doente))])\n",
        "\n",
        "xtrain, xtest, ytrain, ytest = train_test_split(x,y,test_size=0.2)\n",
        "xtrain, xval, ytrain, yval = train_test_split(xtrain,ytrain,test_size=0.2) # Validação\n",
        "\n",
        "xtrain.shape, xtest.shape, xval.shape"
      ],
      "metadata": {
        "id": "U0BlMvrJuPn7",
        "colab": {
          "base_uri": "https://localhost:8080/"
        },
        "outputId": "693f609c-08ba-4317-a729-18018b7eb87d"
      },
      "execution_count": null,
      "outputs": [
        {
          "output_type": "execute_result",
          "data": {
            "text/plain": [
              "((6676, 64, 64, 3), (2087, 64, 64, 3), (1669, 64, 64, 3))"
            ]
          },
          "metadata": {},
          "execution_count": 8
        }
      ]
    },
    {
      "cell_type": "code",
      "source": [
        "img_saudavel_aug.shape, img_doente.shape"
      ],
      "metadata": {
        "id": "-RJZ9bF8E4rf",
        "colab": {
          "base_uri": "https://localhost:8080/"
        },
        "outputId": "15607728-37e8-4097-ff96-9b8e12908888"
      },
      "execution_count": null,
      "outputs": [
        {
          "output_type": "execute_result",
          "data": {
            "text/plain": [
              "((2432, 64, 64, 3), (2000, 64, 64, 3))"
            ]
          },
          "metadata": {},
          "execution_count": 9
        }
      ]
    },
    {
      "cell_type": "markdown",
      "source": [
        "### Modelo"
      ],
      "metadata": {
        "id": "orIzgKKw2BXA"
      }
    },
    {
      "cell_type": "code",
      "source": [
        "# Criando o modelo\n",
        "from tensorflow.keras import Input\n",
        "from tensorflow.keras.layers import RandomFlip, RandomRotation, RandomZoom\n",
        "from tensorflow.keras.layers import Dense, Dropout, GlobalAveragePooling2D\n",
        "\n",
        "shape = (64,64,3)\n",
        "\n",
        "resnet = ResNet50(weights=None, include_top=False)\n",
        "\n",
        "input = Input(shape=shape)\n",
        "\n",
        "# Pré-Processamento\n",
        "x = preprocess_input(input)\n",
        "x = RandomFlip('vertical')(input)\n",
        "x = RandomRotation(0.5)(x)\n",
        "x = RandomZoom(0.2)(x)\n",
        "\n",
        "# Modelo Base\n",
        "x = resnet(x)\n",
        "\n",
        "# Output\n",
        "x = GlobalAveragePooling2D()(x)\n",
        "x = Dense(512, activation='relu')(x)\n",
        "x = Dropout(0.7)(x)\n",
        "out = Dense(1, activation='sigmoid')(x)\n",
        "\n",
        "model = tf.keras.models.Model(inputs=input, outputs=out)\n",
        "\n",
        "model.summary()"
      ],
      "metadata": {
        "colab": {
          "base_uri": "https://localhost:8080/"
        },
        "id": "8NheVrPgEuDE",
        "outputId": "56c546ad-f357-400c-99dc-5e340e408bbb"
      },
      "execution_count": null,
      "outputs": [
        {
          "output_type": "stream",
          "name": "stdout",
          "text": [
            "Model: \"model_1\"\n",
            "_________________________________________________________________\n",
            " Layer (type)                Output Shape              Param #   \n",
            "=================================================================\n",
            " input_4 (InputLayer)        [(None, 64, 64, 3)]       0         \n",
            "                                                                 \n",
            " random_flip_1 (RandomFlip)  (None, 64, 64, 3)         0         \n",
            "                                                                 \n",
            " random_rotation_1 (RandomRo  (None, 64, 64, 3)        0         \n",
            " tation)                                                         \n",
            "                                                                 \n",
            " resnet50 (Functional)       (None, None, None, 2048)  23587712  \n",
            "                                                                 \n",
            " global_average_pooling2d_1   (None, 2048)             0         \n",
            " (GlobalAveragePooling2D)                                        \n",
            "                                                                 \n",
            " dense_2 (Dense)             (None, 512)               1049088   \n",
            "                                                                 \n",
            " dropout_1 (Dropout)         (None, 512)               0         \n",
            "                                                                 \n",
            " dense_3 (Dense)             (None, 1)                 513       \n",
            "                                                                 \n",
            "=================================================================\n",
            "Total params: 24,637,313\n",
            "Trainable params: 24,584,193\n",
            "Non-trainable params: 53,120\n",
            "_________________________________________________________________\n"
          ]
        }
      ]
    },
    {
      "cell_type": "code",
      "source": [
        "# Compilando o modelo\n",
        "opt = Adam(learning_rate=0.0001, beta_1=0.9, beta_2=0.999, epsilon=None, decay=0.01, amsgrad=False)\n",
        "model.compile(optimizer=opt, \n",
        "              loss=tf.keras.losses.BinaryCrossentropy(from_logits=True), \n",
        "              metrics=['accuracy'])"
      ],
      "metadata": {
        "id": "anoYXUjn-ZWN"
      },
      "execution_count": null,
      "outputs": []
    },
    {
      "cell_type": "code",
      "source": [
        "# Treinando o modelo\n",
        "batch = 32\n",
        "epocas = 30\n",
        "history = model.fit(xtrain, ytrain, \n",
        "                    validation_data = (xtest,ytest), \n",
        "                    batch_size = batch, \n",
        "                    epochs = epocas\n",
        "                    )"
      ],
      "metadata": {
        "id": "4s7Qq5zX-onH",
        "colab": {
          "base_uri": "https://localhost:8080/"
        },
        "outputId": "ac645875-e6c2-4033-c989-8fc98d6d6e86"
      },
      "execution_count": null,
      "outputs": [
        {
          "output_type": "stream",
          "name": "stdout",
          "text": [
            "Epoch 1/30\n"
          ]
        },
        {
          "output_type": "stream",
          "name": "stderr",
          "text": [
            "/usr/local/lib/python3.7/dist-packages/tensorflow/python/util/dispatch.py:1082: UserWarning: \"`binary_crossentropy` received `from_logits=True`, but the `output` argument was produced by a sigmoid or softmax activation and thus does not represent logits. Was this intended?\"\n",
            "  return dispatch_target(*args, **kwargs)\n"
          ]
        },
        {
          "output_type": "stream",
          "name": "stdout",
          "text": [
            "209/209 [==============================] - 20s 69ms/step - loss: 0.7218 - accuracy: 0.7325 - val_loss: 0.5144 - val_accuracy: 0.7887\n",
            "Epoch 2/30\n",
            "209/209 [==============================] - 14s 66ms/step - loss: 0.4779 - accuracy: 0.7852 - val_loss: 0.3777 - val_accuracy: 0.8232\n",
            "Epoch 3/30\n",
            "209/209 [==============================] - 14s 66ms/step - loss: 0.3958 - accuracy: 0.8177 - val_loss: 0.3152 - val_accuracy: 0.8625\n",
            "Epoch 4/30\n",
            "209/209 [==============================] - 14s 66ms/step - loss: 0.3493 - accuracy: 0.8427 - val_loss: 0.2943 - val_accuracy: 0.8816\n",
            "Epoch 5/30\n",
            "209/209 [==============================] - 14s 66ms/step - loss: 0.3189 - accuracy: 0.8553 - val_loss: 0.2572 - val_accuracy: 0.9018\n",
            "Epoch 6/30\n",
            "209/209 [==============================] - 14s 66ms/step - loss: 0.2909 - accuracy: 0.8775 - val_loss: 0.2329 - val_accuracy: 0.9023\n",
            "Epoch 7/30\n",
            "209/209 [==============================] - 16s 78ms/step - loss: 0.2629 - accuracy: 0.8917 - val_loss: 0.2098 - val_accuracy: 0.9224\n",
            "Epoch 8/30\n",
            "209/209 [==============================] - 19s 93ms/step - loss: 0.2608 - accuracy: 0.8887 - val_loss: 0.1996 - val_accuracy: 0.9224\n",
            "Epoch 9/30\n",
            "209/209 [==============================] - 16s 75ms/step - loss: 0.2332 - accuracy: 0.9023 - val_loss: 0.1789 - val_accuracy: 0.9296\n",
            "Epoch 10/30\n",
            "209/209 [==============================] - 14s 67ms/step - loss: 0.2396 - accuracy: 0.8959 - val_loss: 0.1729 - val_accuracy: 0.9339\n",
            "Epoch 11/30\n",
            "209/209 [==============================] - 14s 67ms/step - loss: 0.2138 - accuracy: 0.9098 - val_loss: 0.1722 - val_accuracy: 0.9296\n",
            "Epoch 12/30\n",
            "209/209 [==============================] - 14s 68ms/step - loss: 0.2158 - accuracy: 0.9113 - val_loss: 0.1713 - val_accuracy: 0.9281\n",
            "Epoch 13/30\n",
            "209/209 [==============================] - 14s 66ms/step - loss: 0.2089 - accuracy: 0.9131 - val_loss: 0.1657 - val_accuracy: 0.9272\n",
            "Epoch 14/30\n",
            "209/209 [==============================] - 14s 68ms/step - loss: 0.1948 - accuracy: 0.9205 - val_loss: 0.1555 - val_accuracy: 0.9339\n",
            "Epoch 15/30\n",
            "209/209 [==============================] - 14s 67ms/step - loss: 0.2015 - accuracy: 0.9194 - val_loss: 0.1572 - val_accuracy: 0.9315\n",
            "Epoch 16/30\n",
            "209/209 [==============================] - 14s 67ms/step - loss: 0.1964 - accuracy: 0.9214 - val_loss: 0.1519 - val_accuracy: 0.9310\n",
            "Epoch 17/30\n",
            "209/209 [==============================] - 14s 66ms/step - loss: 0.1850 - accuracy: 0.9238 - val_loss: 0.1406 - val_accuracy: 0.9425\n",
            "Epoch 18/30\n",
            "209/209 [==============================] - 15s 71ms/step - loss: 0.1873 - accuracy: 0.9272 - val_loss: 0.1441 - val_accuracy: 0.9391\n",
            "Epoch 19/30\n",
            "209/209 [==============================] - 14s 67ms/step - loss: 0.1802 - accuracy: 0.9280 - val_loss: 0.1437 - val_accuracy: 0.9420\n",
            "Epoch 20/30\n",
            "209/209 [==============================] - 14s 67ms/step - loss: 0.1833 - accuracy: 0.9271 - val_loss: 0.1508 - val_accuracy: 0.9353\n",
            "Epoch 21/30\n",
            "209/209 [==============================] - 14s 67ms/step - loss: 0.1828 - accuracy: 0.9247 - val_loss: 0.1339 - val_accuracy: 0.9483\n",
            "Epoch 22/30\n",
            "209/209 [==============================] - 14s 67ms/step - loss: 0.1769 - accuracy: 0.9254 - val_loss: 0.1316 - val_accuracy: 0.9463\n",
            "Epoch 23/30\n",
            "209/209 [==============================] - 14s 68ms/step - loss: 0.1806 - accuracy: 0.9259 - val_loss: 0.1298 - val_accuracy: 0.9502\n",
            "Epoch 24/30\n",
            "209/209 [==============================] - 14s 68ms/step - loss: 0.1736 - accuracy: 0.9317 - val_loss: 0.1314 - val_accuracy: 0.9473\n",
            "Epoch 25/30\n",
            "209/209 [==============================] - 14s 66ms/step - loss: 0.1577 - accuracy: 0.9366 - val_loss: 0.1267 - val_accuracy: 0.9487\n",
            "Epoch 26/30\n",
            "209/209 [==============================] - 14s 66ms/step - loss: 0.1767 - accuracy: 0.9296 - val_loss: 0.1232 - val_accuracy: 0.9506\n",
            "Epoch 27/30\n",
            "209/209 [==============================] - 14s 67ms/step - loss: 0.1629 - accuracy: 0.9357 - val_loss: 0.1257 - val_accuracy: 0.9502\n",
            "Epoch 28/30\n",
            "209/209 [==============================] - 14s 66ms/step - loss: 0.1674 - accuracy: 0.9281 - val_loss: 0.1230 - val_accuracy: 0.9483\n",
            "Epoch 29/30\n",
            "209/209 [==============================] - 14s 66ms/step - loss: 0.1647 - accuracy: 0.9356 - val_loss: 0.1168 - val_accuracy: 0.9550\n",
            "Epoch 30/30\n",
            "209/209 [==============================] - 14s 67ms/step - loss: 0.1590 - accuracy: 0.9338 - val_loss: 0.1177 - val_accuracy: 0.9535\n"
          ]
        }
      ]
    },
    {
      "cell_type": "code",
      "source": [
        "model.save('gdrive/My Drive/Dataset/Batata/Resultados_Resnet')"
      ],
      "metadata": {
        "id": "vq54uxSQaU-5",
        "colab": {
          "base_uri": "https://localhost:8080/"
        },
        "outputId": "ea02e031-9594-4008-d858-07f73eac5c40"
      },
      "execution_count": null,
      "outputs": [
        {
          "output_type": "stream",
          "name": "stdout",
          "text": [
            "WARNING:tensorflow:Detecting that an object or model or tf.train.Checkpoint is being deleted with unrestored values. See the following logs for the specific values in question. To silence these warnings, use `status.expect_partial()`. See https://www.tensorflow.org/api_docs/python/tf/train/Checkpoint#restorefor details about the status object returned by the restore function.\n",
            "WARNING:tensorflow:Value in checkpoint could not be found in the restored object: (root).layer-1._random_generator._generator._state_var\n",
            "WARNING:tensorflow:Value in checkpoint could not be found in the restored object: (root).layer-2._random_generator._generator._state_var\n",
            "INFO:tensorflow:Assets written to: gdrive/My Drive/Dataset/Batata/Resultados_Resnet/assets\n"
          ]
        }
      ]
    },
    {
      "cell_type": "code",
      "source": [
        "import pickle\n",
        "with open('gdrive/My Drive/Dataset/Batata/Resultados_Resnet/trainHistoryDict', 'wb') as file_pi:\n",
        "  pickle.dump(history.history, file_pi)"
      ],
      "metadata": {
        "id": "FTsZ-4NtHFfT"
      },
      "execution_count": null,
      "outputs": []
    },
    {
      "cell_type": "markdown",
      "source": [
        "#### Avaliando o modelo"
      ],
      "metadata": {
        "id": "FNDgvMASjYbe"
      }
    },
    {
      "cell_type": "code",
      "source": [
        "model = keras.models.load_model('gdrive/My Drive/Dataset/Batata/Resultados_Resnet')\n",
        "#history = pickle.load(open('gdrive/My Drive/Dataset/Batata/Resultados_Resnet/trainHistoryDict', \"rb\"))"
      ],
      "metadata": {
        "id": "KPLcKnLwagq1"
      },
      "execution_count": null,
      "outputs": []
    },
    {
      "cell_type": "code",
      "source": [
        "# Acurácia\n",
        "plt.plot(history.history['accuracy'])\n",
        "plt.plot(history.history['val_accuracy'])\n",
        "plt.title(f'Acurácia do Modelo ({epocas} épocas)')\n",
        "plt.ylabel('Acurácia')\n",
        "plt.xlabel('Época')\n",
        "plt.legend(['train', 'test'], loc='upper left')\n",
        "\n",
        "plt.savefig(\"acuracia.png\", dpi = 300)\n",
        "!cp acuracia.png \"gdrive/My Drive/Dataset/Batata/Resultados_Resnet\"\n",
        "\n",
        "plt.show()"
      ],
      "metadata": {
        "id": "DRAfVDcP7Bxb",
        "colab": {
          "base_uri": "https://localhost:8080/",
          "height": 297
        },
        "outputId": "7746023e-c6eb-4eac-aa98-71c29f1ed6d0"
      },
      "execution_count": null,
      "outputs": [
        {
          "output_type": "display_data",
          "data": {
            "text/plain": [
              "<Figure size 432x288 with 1 Axes>"
            ],
            "image/png": "[encoded data removed]"
          },
          "metadata": {
            "needs_background": "light"
          }
        }
      ]
    },
    {
      "cell_type": "code",
      "source": [
        "# Perda\n",
        "plt.plot(history.history['loss'])\n",
        "plt.plot(history.history['val_loss'])\n",
        "plt.title(f'Perda ({epocas} épocas)')\n",
        "plt.ylabel('Perda')\n",
        "plt.xlabel('Época')\n",
        "plt.legend(['train', 'test'], loc='upper left')\n",
        "\n",
        "plt.savefig(\"perda.png\", dpi = 300)\n",
        "!cp perda.png \"gdrive/My Drive/Dataset/Batata/Resultados_Resnet\"\n",
        "\n",
        "plt.show()"
      ],
      "metadata": {
        "id": "22cnzWvP7Lnd",
        "colab": {
          "base_uri": "https://localhost:8080/",
          "height": 297
        },
        "outputId": "9e197911-9389-4ff1-b4a3-4f980c6af0c8"
      },
      "execution_count": null,
      "outputs": [
        {
          "output_type": "display_data",
          "data": {
            "text/plain": [
              "<Figure size 432x288 with 1 Axes>"
            ],
            "image/png": "[encoded data removed]"
          },
          "metadata": {
            "needs_background": "light"
          }
        }
      ]
    },
    {
      "cell_type": "code",
      "source": [
        "ypred = model.predict(xtest)"
      ],
      "metadata": {
        "id": "2H8IQ9flNrwk"
      },
      "execution_count": null,
      "outputs": []
    },
    {
      "cell_type": "code",
      "source": [
        "# Matriz de Confusão\n",
        "from sklearn.metrics import confusion_matrix\n",
        "from sklearn.metrics import accuracy_score\n",
        "\n",
        "array = confusion_matrix(ytest,np.round(ypred))\n",
        "\n",
        "print(array)\n",
        "print('\\nAcurácia:',accuracy_score(ytest, np.round(ypred)))"
      ],
      "metadata": {
        "id": "46eL9Wr2Odxr",
        "colab": {
          "base_uri": "https://localhost:8080/"
        },
        "outputId": "9b524764-77e6-4ea0-d68d-b56e8073fc23"
      },
      "execution_count": null,
      "outputs": [
        {
          "output_type": "stream",
          "name": "stdout",
          "text": [
            "[[ 419   45]\n",
            " [  52 1571]]\n",
            "\n",
            "Acurácia: 0.9535218016291327\n"
          ]
        }
      ]
    },
    {
      "cell_type": "code",
      "source": [
        "import pandas as pd\n",
        "import seaborn as sn\n",
        "from matplotlib.pyplot import figure\n",
        "\n",
        "df_cm = pd.DataFrame(array, index = [i for i in \"01\"], columns = [i for i in \"01\"])\n",
        "plt.figure(figsize = (10,7))\n",
        "sn.heatmap(df_cm, annot=True, annot_kws={\"size\": 16}, center = np.amax(array))\n",
        "\n",
        "plt.savefig(\"conf_mlp.png\", dpi = 300, transparent = True)\n",
        "!cp conf_mlp.png \"gdrive/My Drive/Dataset/Batata/Resultados_Resnet/\"\n",
        "\n",
        "plt.show()"
      ],
      "metadata": {
        "id": "BzFmmIZTQx2E",
        "colab": {
          "base_uri": "https://localhost:8080/",
          "height": 428
        },
        "outputId": "70e9cb47-49e6-4083-c04f-38519e238f4d"
      },
      "execution_count": null,
      "outputs": [
        {
          "output_type": "display_data",
          "data": {
            "text/plain": [
              "<Figure size 720x504 with 2 Axes>"
            ],
            "image/png": "[encoded data removed]"
          },
          "metadata": {
            "needs_background": "light"
          }
        }
      ]
    },
    {
      "cell_type": "markdown",
      "source": [
        "#### Fazendo previsões"
      ],
      "metadata": {
        "id": "QTd7R7xVEN5l"
      }
    },
    {
      "cell_type": "code",
      "source": [
        "# Dataset de validação\n",
        "ypred = model.predict(xval)\n",
        "array = confusion_matrix(yval, np.round(ypred))\n",
        "\n",
        "print(array)\n",
        "print('\\nAcurácia:',accuracy_score(yval, np.round(ypred)))"
      ],
      "metadata": {
        "id": "K5QcukYhCwzr",
        "colab": {
          "base_uri": "https://localhost:8080/"
        },
        "outputId": "86f9320d-d2ff-4f57-8e98-de125edc00d5"
      },
      "execution_count": null,
      "outputs": [
        {
          "output_type": "stream",
          "name": "stdout",
          "text": [
            "[[ 307   50]\n",
            " [  40 1272]]\n",
            "\n",
            "Acurácia: 0.9460754943079689\n"
          ]
        }
      ]
    },
    {
      "cell_type": "code",
      "source": [
        "# Testando com imagens individuais (folhas saudáveis)\n",
        "def ler_imagem(file_list):\n",
        "  img = cv2.imread(file_list)\n",
        "  img = np.array(tf.image.resize(img,[64,64]))\n",
        "  img = img.reshape(1,64,64,3)\n",
        "  return(img)\n",
        "\n",
        "file_list = 'gdrive/My Drive/Dataset/Batata/folha_saudavel_1.png'\n",
        "batata_1 = ler_imagem(file_list)\n",
        "\n",
        "file_list = 'gdrive/My Drive/Dataset/Batata/folha_saudavel_2.png'\n",
        "batata_2 = ler_imagem(file_list)\n",
        "\n",
        "file_list = 'gdrive/My Drive/Dataset/Batata/folha_saudavel_3.png'\n",
        "batata_3 = ler_imagem(file_list)\n",
        "\n",
        "file_list = 'gdrive/My Drive/Dataset/Batata/folha_saudavel_4.jpg'\n",
        "batata_4 = ler_imagem(file_list)"
      ],
      "metadata": {
        "id": "9SPrZxrBR8HK"
      },
      "execution_count": null,
      "outputs": []
    },
    {
      "cell_type": "code",
      "source": [
        "print(model.predict(batata_1))\n",
        "print(model.predict(batata_2))\n",
        "print(model.predict(batata_3))\n",
        "print(model.predict(batata_4))"
      ],
      "metadata": {
        "id": "Tvdq8N_kShjr",
        "colab": {
          "base_uri": "https://localhost:8080/"
        },
        "outputId": "8d8f9ff9-a44c-4f1b-a632-d90d0354a148"
      },
      "execution_count": null,
      "outputs": [
        {
          "output_type": "stream",
          "name": "stdout",
          "text": [
            "[[0.13672963]]\n",
            "[[0.99924326]]\n",
            "[[0.81376004]]\n",
            "[[0.66289777]]\n"
          ]
        }
      ]
    },
    {
      "cell_type": "code",
      "source": [
        "# Testando com novas imagens\n",
        "\n",
        "val_saudavel = [] \n",
        "val_doente = []\n",
        "\n",
        "file_list = glob.glob(r'gdrive/My Drive/Dataset/Batata_val/Healthy/*.*')\n",
        "val_saudavel = ler(file_list, val_saudavel)\n",
        "\n",
        "file_list = glob.glob(r'gdrive/My Drive/Dataset/Batata_val/Late_Blight/*.*')\n",
        "val_doente = ler(file_list, val_doente)\n",
        "\n",
        "file_list = glob.glob(r'gdrive/My Drive/Dataset/Batata_val/Late_Blight/*.*')\n",
        "val_doente = ler(file_list, val_doente)\n",
        "\n",
        "x_novo = np.array([*val_saudavel,*val_doente])\n",
        "ypred = model.predict(x_novo)\n",
        "\n",
        "ytest_val = np.array([*np.zeros(len(val_saudavel)),*np.ones(len(val_doente))])   \n",
        "\n",
        "array = confusion_matrix(ytest_val, np.round(ypred))\n",
        "\n",
        "print(array)\n",
        "print('\\nAcurácia:',accuracy_score(ytest_val, np.round(ypred)))"
      ],
      "metadata": {
        "id": "ftjdLGA9NKYV",
        "colab": {
          "base_uri": "https://localhost:8080/"
        },
        "outputId": "bce6f524-f28c-4e75-c6b4-0dfa761cf55e"
      },
      "execution_count": null,
      "outputs": [
        {
          "output_type": "stream",
          "name": "stdout",
          "text": [
            "[[  9  93]\n",
            " [  6 276]]\n",
            "\n",
            "Acurácia: 0.7421875\n"
          ]
        }
      ]
    }
  ]
}